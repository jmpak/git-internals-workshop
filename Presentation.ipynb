{
 "cells": [
  {
   "cell_type": "code",
   "execution_count": 32,
   "metadata": {
    "collapsed": false
   },
   "outputs": [],
   "source": [
    ":set -XOverloadedStrings\n",
    "\n",
    "import qualified Data.ByteString as B\n",
    "\n",
    "import Control.Monad.Trans.Reader\n",
    "import Control.Monad.IO.Class (liftIO)\n",
    "import Control.Monad (mapM_, unless)\n",
    "import System.Directory\n",
    "import System.FilePath\n",
    "\n",
    "import Duffer.Loose\n",
    "\n",
    "duffer = flip runReaderT \"output/.git\"\n",
    "git    = flip runReaderT \".git\""
   ]
  },
  {
   "cell_type": "code",
   "execution_count": 31,
   "metadata": {
    "collapsed": false
   },
   "outputs": [],
   "source": [
    "Just o <- git$ readObject \"b1bbf2b4b38a53c8b986d30b0e8f60ff8c01505f\"\n",
    "\n",
    "initRepo = do\n",
    "    path <- ask\n",
    "    objectsPresent <- liftIO $ doesDirectoryExist $ path </> \"objects\"\n",
    "    liftIO $ unless objectsPresent $ do\n",
    "        mapM_ (createDirectoryIfMissing True)\n",
    "            [ path </> \"branches\"\n",
    "            , path </> \"hooks\"\n",
    "            , path </> \"info\"\n",
    "            , path </> \"objects\" </> \"info\"\n",
    "            , path </> \"objects\" </> \"pack\"\n",
    "            , path </> \"refs\"    </> \"heads\"\n",
    "            , path </> \"refs\"    </> \"tags\"\n",
    "            ]\n",
    "        mapM_ (uncurry writeFile)\n",
    "            [ (path </> \"HEAD\",   \"ref: refs/heads/master\\n\")\n",
    "            , (path </> \"config\", \"\")\n",
    "            , (path </> \"description\", \"\")\n",
    "            ]\n",
    "\n",
    "destroyRepo = do\n",
    "    path <- ask\n",
    "    liftIO $ removeDirectoryRecursive path\n",
    "\n",
    "\n",
    "_ <- duffer initRepo"
   ]
  }
 ],
 "metadata": {
  "kernelspec": {
   "display_name": "Haskell",
   "language": "haskell",
   "name": "haskell"
  },
  "language_info": {
   "codemirror_mode": "ihaskell",
   "file_extension": ".hs",
   "name": "haskell",
   "version": "7.10.3"
  }
 },
 "nbformat": 4,
 "nbformat_minor": 0
}
