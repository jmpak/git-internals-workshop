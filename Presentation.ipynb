{
 "cells": [
  {
   "cell_type": "code",
   "execution_count": 24,
   "metadata": {
    "collapsed": false
   },
   "outputs": [],
   "source": [
    ":set -XOverloadedStrings\n",
    "\n",
    "import qualified Data.ByteString as B\n",
    "import qualified Data.ByteString.UTF8\n",
    "\n",
    "import Control.Monad.Trans.Reader\n",
    "import Control.Monad.IO.Class (liftIO)\n",
    "import Control.Monad (mapM_, unless)\n",
    "import System.Directory\n",
    "import System.FilePath\n",
    "\n",
    "import Duffer.Loose\n",
    "import Duffer.Loose.Objects\n",
    "\n",
    "duffer = flip runReaderT \"output/.git\"\n",
    "git    = flip runReaderT \".git\""
   ]
  },
  {
   "cell_type": "code",
   "execution_count": 27,
   "metadata": {
    "collapsed": false
   },
   "outputs": [],
   "source": [
    "Just o <- git$ readObject \"b1bbf2b4b38a53c8b986d30b0e8f60ff8c01505f\"\n",
    "initRepo = do\n",
    "    path <- ask\n",
    "    objectsPresent <- liftIO $ doesDirectoryExist $ path </> \"objects\"\n",
    "    liftIO $ unless objectsPresent $ do\n",
    "        mapM_ (createDirectoryIfMissing True)\n",
    "            [ path </> \"branches\"\n",
    "            , path </> \"hooks\"\n",
    "            , path </> \"info\"\n",
    "            , path </> \"objects\" </> \"info\"\n",
    "            , path </> \"objects\" </> \"pack\"\n",
    "            , path </> \"refs\"    </> \"heads\"\n",
    "            , path </> \"refs\"    </> \"tags\"\n",
    "            ]\n",
    "        mapM_ (uncurry writeFile)\n",
    "            [ (path </> \"HEAD\",   \"ref: refs/heads/master\\n\")\n",
    "            , (path </> \"config\", \"\")\n",
    "            , (path </> \"description\", \"\")\n",
    "            ]\n",
    "\n",
    "destroyRepo = do\n",
    "    path <- ask\n",
    "    liftIO $ removeDirectoryRecursive path\n",
    "\n",
    "\n",
    "_ <- duffer initRepo"
   ]
  },
  {
   "cell_type": "code",
   "execution_count": 31,
   "metadata": {
    "collapsed": false
   },
   "outputs": [
    {
     "data": {
      "text/plain": [
       "\"Vaibhav Sagar <vaibhavsagar@gmail> 0000000000 +0000\""
      ]
     },
     "metadata": {},
     "output_type": "display_data"
    }
   ],
   "source": [
    "import Data.Byteable\n",
    "import qualified Data.Set as S\n",
    "me = PersonTime \"Vaibhav Sagar\" \"vaibhavsagar@gmail\" \"0000000000\" \"+0000\"\n",
    "toBytes me\n",
    "\n",
    "master parent = do\n",
    "    message           <- liftIO $ B.readFile \"content/step0/commit.txt\"\n",
    "    resolveRefContent <- liftIO $ B.readFile \"content/step0/tree/tools/resolve_ref.py\"\n",
    "    resolveRefHash    <- writeObject $ Blob resolveRefContent\n",
    "    toolsSubtreeHash  <- writeObject $ Tree $ S.fromList [TreeEntry 0o100644 \"resolve_ref.py\" resolveRefHash]\n",
    "    rootTreeHash      <- writeObject $ Tree $ S.fromList [TreeEntry 0o040000 \"tools\" toolsSubtreeHash]\n",
    "    let commitObject  =  Commit rootTreeHash [parent] me me message\n",
    "    writeObject commitObject\n",
    "    return commitObject\n",
    "\n",
    "stepN step parents = do\n",
    "    message           <- liftIO $ B.readFile $ \"content/step\" ++ n ++ \"/commit.txt\"\n",
    "    resolveRefContent <- liftIO $ B.readFile $ \"content/step\" ++ n ++ \"/tree/tools/resolve_ref.py\"\n",
    "    showObjectContent <- liftIO $ B.readFile $ \"content/step\" ++ n ++ \"/tree/tools/show_object.py\"\n",
    "    resolveRefHash    <- writeObject $ Blob resolveRefContent\n",
    "    showObjectHash    <- writeObject $ Blob showObjectContent\n",
    "    toolsSubtreeHash  <- writeObject $ Tree $ S.fromList \n",
    "        [ TreeEntry 0o100644 \"resolve_ref.py\" resolveRefHash\n",
    "        , TreeEntry 0o100644 \"show_object.py\" showObjectHash\n",
    "        ]\n",
    "    rootTreeHash      <- writeObject $ Tree $ S.fromList [TreeEntry 0o040000 \"tools\" toolsSubtreeHash]\n",
    "    let commitObject  = Commit rootTreeHash parents me me message\n",
    "    commitHash        <- writeObject $ commitObject\n",
    "    updateRef (\"refs/tags/step\" ++ n) commitObject\n",
    "    return commitHash\n",
    "    where n = show step\n",
    "\n",
    "step5 parent = do\n",
    "    message           <- liftIO $ B.readFile $ \"content/step\" ++ n ++ \"/commit.txt\"\n",
    "    resolveRefContent <- liftIO $ B.readFile $ \"content/step\" ++ n ++ \"/tree/tools/resolve_ref.py\"\n",
    "    showObjectContent <- liftIO $ B.readFile $ \"content/step\" ++ n ++ \"/tree/tools/show_object.py\"\n",
    "    showObjectContent <- liftIO $ B.readFile $ \"content/step\" ++ n ++ \"/tree/tools/show_object.py\"\n",
    "    unpackContent     <- liftIO $ B.readFile $ \"content/step\" ++ n ++ \"/tree/tools/unpack.sh\"\n",
    "    resolveRefHash    <- writeObject $ Blob resolveRefContent\n",
    "    showObjectHash    <- writeObject $ Blob showObjectContent\n",
    "    unpackHash        <- writeObject $ Blob unpackContent\n",
    "    toolsSubtreeHash  <- writeObject $ Tree $ S.fromList \n",
    "        [ TreeEntry 0o100644 \"resolve_ref.py\" resolveRefHash\n",
    "        , TreeEntry 0o100644 \"show_object.py\" showObjectHash\n",
    "        , TreeEntry 0o100644 \"unpack.sh\"      unpackHash\n",
    "        ]\n",
    "    rootTreeHash      <- writeObject $ Tree $ S.fromList [TreeEntry 0o040000 \"tools\" toolsSubtreeHash]\n",
    "    commitHash        <- writeObject $ Commit rootTreeHash [parent] me me message\n",
    "    return commitHash\n",
    "    where n = show 5\n",
    "\n",
    "makeRepo = do\n",
    "    latest <- stepN 1 [] >>= stepN 2 . return >>= stepN 3 . return >>= stepN 4 .return >>= stepN 5 . return >>= master\n",
    "    updateRef \"refs/heads/master\" latest\n",
    "    return latest\n",
    "\n",
    "_ <- duffer initRepo\n",
    "_ <- duffer makeRepo"
   ]
  },
  {
   "cell_type": "code",
   "execution_count": null,
   "metadata": {
    "collapsed": true
   },
   "outputs": [],
   "source": []
  }
 ],
 "metadata": {
  "kernelspec": {
   "display_name": "Haskell",
   "language": "haskell",
   "name": "haskell"
  },
  "language_info": {
   "codemirror_mode": "ihaskell",
   "file_extension": ".hs",
   "name": "haskell",
   "version": "7.10.3"
  }
 },
 "nbformat": 4,
 "nbformat_minor": 0
}
